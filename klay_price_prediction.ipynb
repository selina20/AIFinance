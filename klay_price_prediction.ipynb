{
  "nbformat": 4,
  "nbformat_minor": 0,
  "metadata": {
    "colab": {
      "name": "klay_price_prediction.ipynb",
      "provenance": [],
      "collapsed_sections": [],
      "toc_visible": true,
      "mount_file_id": "1o6PQq8WkLmZvx7AE3tpZ7ettX5gQyMNR",
      "authorship_tag": "ABX9TyMk32CsVmfyBQ0JQ1ynFo4S",
      "include_colab_link": true
    },
    "kernelspec": {
      "name": "python3",
      "display_name": "Python 3"
    },
    "language_info": {
      "name": "python"
    }
  },
  "cells": [
    {
      "cell_type": "markdown",
      "metadata": {
        "id": "view-in-github",
        "colab_type": "text"
      },
      "source": [
        "<a href=\"https://colab.research.google.com/github/selina20/AIFinance/blob/main/klay_price_prediction.ipynb\" target=\"_parent\"><img src=\"https://colab.research.google.com/assets/colab-badge.svg\" alt=\"Open In Colab\"/></a>"
      ]
    },
    {
      "cell_type": "code",
      "execution_count": 1,
      "metadata": {
        "id": "1P3kqi8LYf-6"
      },
      "outputs": [],
      "source": [
        "import pandas as pd\n",
        "import numpy as np\n",
        "import matplotlib.pyplot as plt\n",
        "from keras.models import Sequential\n",
        "from keras.layers import LSTM, Dropout, Dense, Activation\n",
        "from keras.callbacks import TensorBoard, ModelCheckpoint, ReduceLROnPlateau\n",
        "import datetime"
      ]
    },
    {
      "cell_type": "code",
      "source": [
        "from google.colab import drive\n",
        "drive.mount('/content/drive')"
      ],
      "metadata": {
        "colab": {
          "base_uri": "https://localhost:8080/"
        },
        "id": "Q4iErA2GYnlp",
        "outputId": "8d58a4ce-556e-4d9c-e9f5-32c1a0a4d7ad"
      },
      "execution_count": 30,
      "outputs": [
        {
          "output_type": "stream",
          "name": "stdout",
          "text": [
            "Drive already mounted at /content/drive; to attempt to forcibly remount, call drive.mount(\"/content/drive\", force_remount=True).\n"
          ]
        }
      ]
    },
    {
      "cell_type": "code",
      "source": [
        "data = pd.read_csv('/content/drive/MyDrive/Colab Notebooks/klay.csv',header=0)\n",
        "data.head()"
      ],
      "metadata": {
        "colab": {
          "base_uri": "https://localhost:8080/",
          "height": 206
        },
        "id": "OCPC8MRjZGaD",
        "outputId": "3d00db95-4d5c-420d-b91d-56da7bc69491"
      },
      "execution_count": 31,
      "outputs": [
        {
          "output_type": "execute_result",
          "data": {
            "text/html": [
              "<div>\n",
              "<style scoped>\n",
              "    .dataframe tbody tr th:only-of-type {\n",
              "        vertical-align: middle;\n",
              "    }\n",
              "\n",
              "    .dataframe tbody tr th {\n",
              "        vertical-align: top;\n",
              "    }\n",
              "\n",
              "    .dataframe thead th {\n",
              "        text-align: right;\n",
              "    }\n",
              "</style>\n",
              "<table border=\"1\" class=\"dataframe\">\n",
              "  <thead>\n",
              "    <tr style=\"text-align: right;\">\n",
              "      <th></th>\n",
              "      <th>Date</th>\n",
              "      <th>Open</th>\n",
              "      <th>High</th>\n",
              "      <th>Low</th>\n",
              "      <th>Close</th>\n",
              "      <th>Volume</th>\n",
              "      <th>Market Cap</th>\n",
              "    </tr>\n",
              "  </thead>\n",
              "  <tbody>\n",
              "    <tr>\n",
              "      <th>0</th>\n",
              "      <td>30-Mar-20</td>\n",
              "      <td>111.50</td>\n",
              "      <td>137.19</td>\n",
              "      <td>111.31</td>\n",
              "      <td>136.68</td>\n",
              "      <td>475347115.0</td>\n",
              "      <td>0.0</td>\n",
              "    </tr>\n",
              "    <tr>\n",
              "      <th>1</th>\n",
              "      <td>31-Mar-20</td>\n",
              "      <td>137.83</td>\n",
              "      <td>147.27</td>\n",
              "      <td>137.10</td>\n",
              "      <td>142.59</td>\n",
              "      <td>353269979.0</td>\n",
              "      <td>0.0</td>\n",
              "    </tr>\n",
              "    <tr>\n",
              "      <th>2</th>\n",
              "      <td>01-Apr-20</td>\n",
              "      <td>141.99</td>\n",
              "      <td>143.42</td>\n",
              "      <td>129.63</td>\n",
              "      <td>135.79</td>\n",
              "      <td>296125827.0</td>\n",
              "      <td>0.0</td>\n",
              "    </tr>\n",
              "    <tr>\n",
              "      <th>3</th>\n",
              "      <td>02-Apr-20</td>\n",
              "      <td>138.54</td>\n",
              "      <td>220.21</td>\n",
              "      <td>118.81</td>\n",
              "      <td>143.48</td>\n",
              "      <td>463654971.0</td>\n",
              "      <td>0.0</td>\n",
              "    </tr>\n",
              "    <tr>\n",
              "      <th>4</th>\n",
              "      <td>03-Apr-20</td>\n",
              "      <td>142.38</td>\n",
              "      <td>143.29</td>\n",
              "      <td>137.56</td>\n",
              "      <td>139.84</td>\n",
              "      <td>235777252.0</td>\n",
              "      <td>0.0</td>\n",
              "    </tr>\n",
              "  </tbody>\n",
              "</table>\n",
              "</div>"
            ],
            "text/plain": [
              "        Date    Open    High     Low   Close       Volume  Market Cap\n",
              "0  30-Mar-20  111.50  137.19  111.31  136.68  475347115.0         0.0\n",
              "1  31-Mar-20  137.83  147.27  137.10  142.59  353269979.0         0.0\n",
              "2  01-Apr-20  141.99  143.42  129.63  135.79  296125827.0         0.0\n",
              "3  02-Apr-20  138.54  220.21  118.81  143.48  463654971.0         0.0\n",
              "4  03-Apr-20  142.38  143.29  137.56  139.84  235777252.0         0.0"
            ]
          },
          "metadata": {},
          "execution_count": 31
        }
      ]
    },
    {
      "cell_type": "code",
      "source": [
        "high_prices = data['High'].values\n",
        "low_prices = data['Low'].values\n",
        "mid_prices = (high_prices + low_prices)/2"
      ],
      "metadata": {
        "id": "9tGy_zNBZ0MX"
      },
      "execution_count": 32,
      "outputs": []
    },
    {
      "cell_type": "code",
      "source": [
        "seq_len = 50\n",
        "sequence_length = seq_len + 1\n",
        "\n",
        "result = []\n",
        "for index in range(len(mid_prices) - sequence_length):\n",
        "    result.append(mid_prices[index: index + sequence_length])"
      ],
      "metadata": {
        "id": "WINCH_jLauAo"
      },
      "execution_count": 33,
      "outputs": []
    },
    {
      "cell_type": "code",
      "source": [
        "def normalize_windows(data):\n",
        "    normalized_data = []\n",
        "    for window in data:\n",
        "        normalized_window = [((float(p) / float(window[0])) - 1) for p in window]\n",
        "        normalized_data.append(normalized_window)\n",
        "    return np.array(normalized_data)\n",
        "\n",
        "result = normalize_windows(result)\n",
        "\n",
        "# split train and test data\n",
        "row = int(round(result.shape[0] * 0.9))\n",
        "train = result[:row, :]\n",
        "np.random.shuffle(train)\n",
        "\n",
        "x_train = train[:, :-1]\n",
        "x_train = np.reshape(x_train, (x_train.shape[0], x_train.shape[1], 1))\n",
        "y_train = train[:, -1]\n",
        "\n",
        "x_test = result[row:, :-1]\n",
        "x_test = np.reshape(x_test, (x_test.shape[0], x_test.shape[1], 1))\n",
        "y_test = result[row:, -1]\n",
        "\n",
        "x_train.shape, x_test.shape"
      ],
      "metadata": {
        "colab": {
          "base_uri": "https://localhost:8080/"
        },
        "id": "K_eU2-SQd3sC",
        "outputId": "566afb20-11e8-4495-c649-8ec11cae14c8"
      },
      "execution_count": 34,
      "outputs": [
        {
          "output_type": "execute_result",
          "data": {
            "text/plain": [
              "((511, 50, 1), (57, 50, 1))"
            ]
          },
          "metadata": {},
          "execution_count": 34
        }
      ]
    },
    {
      "cell_type": "code",
      "source": [
        "model = Sequential()\n",
        "\n",
        "model.add(LSTM(50, return_sequences=True, input_shape=(50, 1)))\n",
        "\n",
        "model.add(LSTM(64, return_sequences=False))\n",
        "\n",
        "model.add(Dense(1, activation='linear'))\n",
        "\n",
        "model.compile(loss='mse', optimizer='rmsprop')\n",
        "\n",
        "model.summary()"
      ],
      "metadata": {
        "colab": {
          "base_uri": "https://localhost:8080/"
        },
        "id": "sjJvNmd7d49J",
        "outputId": "87d4cc2a-6634-4d28-a3d6-ff9c075ffe44"
      },
      "execution_count": 35,
      "outputs": [
        {
          "output_type": "stream",
          "name": "stdout",
          "text": [
            "Model: \"sequential\"\n",
            "_________________________________________________________________\n",
            " Layer (type)                Output Shape              Param #   \n",
            "=================================================================\n",
            " lstm (LSTM)                 (None, 50, 50)            10400     \n",
            "                                                                 \n",
            " lstm_1 (LSTM)               (None, 64)                29440     \n",
            "                                                                 \n",
            " dense (Dense)               (None, 1)                 65        \n",
            "                                                                 \n",
            "=================================================================\n",
            "Total params: 39,905\n",
            "Trainable params: 39,905\n",
            "Non-trainable params: 0\n",
            "_________________________________________________________________\n"
          ]
        }
      ]
    },
    {
      "cell_type": "code",
      "source": [
        "start_time = datetime.datetime.now().strftime('%Y_%m_%d_%H_%M_%S')\n",
        "\n",
        "model.fit(x_train, y_train,\n",
        "    validation_data=(x_test, y_test),\n",
        "    batch_size=10,\n",
        "    epochs=20,\n",
        "    callbacks=[\n",
        "        TensorBoard(log_dir='logs/%s' % (start_time)),\n",
        "        ModelCheckpoint('./models/%s_eth.h5' % (start_time), monitor='val_loss', verbose=1, save_best_only=True, mode='auto'),\n",
        "        ReduceLROnPlateau(monitor='val_loss', factor=0.2, patience=5, verbose=1, mode='auto')\n",
        "])"
      ],
      "metadata": {
        "colab": {
          "base_uri": "https://localhost:8080/"
        },
        "id": "NZqg1I2nd62q",
        "outputId": "bcc6eff9-8ca1-4bb5-8bf7-4a985446fe36"
      },
      "execution_count": 36,
      "outputs": [
        {
          "output_type": "stream",
          "name": "stdout",
          "text": [
            "Epoch 1/20\n",
            "52/52 [==============================] - ETA: 0s - loss: 0.3765\n",
            "Epoch 00001: val_loss improved from inf to 0.00523, saving model to ./models/2021_12_09_13_52_50_eth.h5\n",
            "52/52 [==============================] - 7s 63ms/step - loss: 0.3765 - val_loss: 0.0052 - lr: 0.0010\n",
            "Epoch 2/20\n",
            "51/52 [============================>.] - ETA: 0s - loss: 0.1477\n",
            "Epoch 00002: val_loss did not improve from 0.00523\n",
            "52/52 [==============================] - 2s 45ms/step - loss: 0.1474 - val_loss: 0.0144 - lr: 0.0010\n",
            "Epoch 3/20\n",
            "51/52 [============================>.] - ETA: 0s - loss: 0.1227\n",
            "Epoch 00003: val_loss did not improve from 0.00523\n",
            "52/52 [==============================] - 2s 46ms/step - loss: 0.1224 - val_loss: 0.0069 - lr: 0.0010\n",
            "Epoch 4/20\n",
            "51/52 [============================>.] - ETA: 0s - loss: 0.1016\n",
            "Epoch 00004: val_loss improved from 0.00523 to 0.00484, saving model to ./models/2021_12_09_13_52_50_eth.h5\n",
            "52/52 [==============================] - 2s 46ms/step - loss: 0.1014 - val_loss: 0.0048 - lr: 0.0010\n",
            "Epoch 5/20\n",
            "52/52 [==============================] - ETA: 0s - loss: 0.0721\n",
            "Epoch 00005: val_loss improved from 0.00484 to 0.00414, saving model to ./models/2021_12_09_13_52_50_eth.h5\n",
            "52/52 [==============================] - 2s 46ms/step - loss: 0.0721 - val_loss: 0.0041 - lr: 0.0010\n",
            "Epoch 6/20\n",
            "52/52 [==============================] - ETA: 0s - loss: 0.0591\n",
            "Epoch 00006: val_loss did not improve from 0.00414\n",
            "52/52 [==============================] - 2s 46ms/step - loss: 0.0591 - val_loss: 0.0046 - lr: 0.0010\n",
            "Epoch 7/20\n",
            "51/52 [============================>.] - ETA: 0s - loss: 0.0571\n",
            "Epoch 00007: val_loss did not improve from 0.00414\n",
            "52/52 [==============================] - 2s 45ms/step - loss: 0.0570 - val_loss: 0.0059 - lr: 0.0010\n",
            "Epoch 8/20\n",
            "52/52 [==============================] - ETA: 0s - loss: 0.0479\n",
            "Epoch 00008: val_loss did not improve from 0.00414\n",
            "52/52 [==============================] - 2s 46ms/step - loss: 0.0479 - val_loss: 0.0046 - lr: 0.0010\n",
            "Epoch 9/20\n",
            "51/52 [============================>.] - ETA: 0s - loss: 0.0430\n",
            "Epoch 00009: val_loss did not improve from 0.00414\n",
            "52/52 [==============================] - 2s 45ms/step - loss: 0.0429 - val_loss: 0.0078 - lr: 0.0010\n",
            "Epoch 10/20\n",
            "51/52 [============================>.] - ETA: 0s - loss: 0.0465\n",
            "Epoch 00010: val_loss did not improve from 0.00414\n",
            "\n",
            "Epoch 00010: ReduceLROnPlateau reducing learning rate to 0.00020000000949949026.\n",
            "52/52 [==============================] - 2s 45ms/step - loss: 0.0465 - val_loss: 0.0049 - lr: 0.0010\n",
            "Epoch 11/20\n",
            "51/52 [============================>.] - ETA: 0s - loss: 0.0301\n",
            "Epoch 00011: val_loss did not improve from 0.00414\n",
            "52/52 [==============================] - 2s 45ms/step - loss: 0.0301 - val_loss: 0.0074 - lr: 2.0000e-04\n",
            "Epoch 12/20\n",
            "52/52 [==============================] - ETA: 0s - loss: 0.0293\n",
            "Epoch 00012: val_loss did not improve from 0.00414\n",
            "52/52 [==============================] - 2s 46ms/step - loss: 0.0293 - val_loss: 0.0068 - lr: 2.0000e-04\n",
            "Epoch 13/20\n",
            "52/52 [==============================] - ETA: 0s - loss: 0.0289\n",
            "Epoch 00013: val_loss did not improve from 0.00414\n",
            "52/52 [==============================] - 2s 45ms/step - loss: 0.0289 - val_loss: 0.0072 - lr: 2.0000e-04\n",
            "Epoch 14/20\n",
            "51/52 [============================>.] - ETA: 0s - loss: 0.0286\n",
            "Epoch 00014: val_loss did not improve from 0.00414\n",
            "52/52 [==============================] - 2s 47ms/step - loss: 0.0285 - val_loss: 0.0068 - lr: 2.0000e-04\n",
            "Epoch 15/20\n",
            "52/52 [==============================] - ETA: 0s - loss: 0.0274\n",
            "Epoch 00015: val_loss did not improve from 0.00414\n",
            "\n",
            "Epoch 00015: ReduceLROnPlateau reducing learning rate to 4.0000001899898055e-05.\n",
            "52/52 [==============================] - 2s 45ms/step - loss: 0.0274 - val_loss: 0.0062 - lr: 2.0000e-04\n",
            "Epoch 16/20\n",
            "51/52 [============================>.] - ETA: 0s - loss: 0.0264\n",
            "Epoch 00016: val_loss did not improve from 0.00414\n",
            "52/52 [==============================] - 2s 45ms/step - loss: 0.0264 - val_loss: 0.0062 - lr: 4.0000e-05\n",
            "Epoch 17/20\n",
            "51/52 [============================>.] - ETA: 0s - loss: 0.0262\n",
            "Epoch 00017: val_loss did not improve from 0.00414\n",
            "52/52 [==============================] - 2s 45ms/step - loss: 0.0262 - val_loss: 0.0065 - lr: 4.0000e-05\n",
            "Epoch 18/20\n",
            "52/52 [==============================] - ETA: 0s - loss: 0.0263\n",
            "Epoch 00018: val_loss did not improve from 0.00414\n",
            "52/52 [==============================] - 2s 45ms/step - loss: 0.0263 - val_loss: 0.0064 - lr: 4.0000e-05\n",
            "Epoch 19/20\n",
            "51/52 [============================>.] - ETA: 0s - loss: 0.0260\n",
            "Epoch 00019: val_loss did not improve from 0.00414\n",
            "52/52 [==============================] - 2s 44ms/step - loss: 0.0259 - val_loss: 0.0063 - lr: 4.0000e-05\n",
            "Epoch 20/20\n",
            "51/52 [============================>.] - ETA: 0s - loss: 0.0259\n",
            "Epoch 00020: val_loss did not improve from 0.00414\n",
            "\n",
            "Epoch 00020: ReduceLROnPlateau reducing learning rate to 8.000000525498762e-06.\n",
            "52/52 [==============================] - 2s 46ms/step - loss: 0.0259 - val_loss: 0.0065 - lr: 4.0000e-05\n"
          ]
        },
        {
          "output_type": "execute_result",
          "data": {
            "text/plain": [
              "<keras.callbacks.History at 0x7fb89d8ddc50>"
            ]
          },
          "metadata": {},
          "execution_count": 36
        }
      ]
    },
    {
      "cell_type": "code",
      "source": [
        "pred = model.predict(x_test)\n",
        "\n",
        "fig = plt.figure(facecolor='white', figsize=(20, 10))\n",
        "ax = fig.add_subplot(111)\n",
        "ax.plot(y_test, label='True')\n",
        "ax.plot(pred, label='Prediction')\n",
        "fig.suptitle('Klay Price prediction', fontsize=30)\n",
        "ax.legend()\n",
        "plt.show()"
      ],
      "metadata": {
        "colab": {
          "base_uri": "https://localhost:8080/",
          "height": 487
        },
        "id": "WTJ_2R6hd9O7",
        "outputId": "fdcd9a1c-9823-411d-f98d-be77455a2282"
      },
      "execution_count": 44,
      "outputs": [
        {
          "output_type": "display_data",
          "data": {
            "image/png": "[encoded data removed]",
            "text/plain": [
              "<Figure size 1440x720 with 1 Axes>"
            ]
          },
          "metadata": {}
        }
      ]
    },
    {
      "cell_type": "code",
      "source": [
        ""
      ],
      "metadata": {
        "id": "9VG3_OCqePNM"
      },
      "execution_count": null,
      "outputs": []
    }
  ]
}